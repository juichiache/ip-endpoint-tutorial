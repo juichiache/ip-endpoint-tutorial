{
  "cells": [
    {
      "cell_type": "code",
      "source": [
        "# import required libraries\r\n",
        "from azure.ai.ml import MLClient\r\n",
        "from azure.ai.ml.entities import (\r\n",
        "    ManagedOnlineEndpoint,\r\n",
        "    ManagedOnlineDeployment,\r\n",
        "    Model,\r\n",
        "    Environment,\r\n",
        "    CodeConfiguration,\r\n",
        ")\r\n",
        "from azure.identity import DefaultAzureCredential"
      ],
      "outputs": [],
      "execution_count": 28,
      "metadata": {
        "gather": {
          "logged": 1672773172795
        }
      }
    },
    {
      "cell_type": "code",
      "source": [
        "# enter details of your AML workspace\r\n",
        "subscription_id = \"31093e7f-3cdc-4559-9889-69d7eebc31ce\"\r\n",
        "resource_group = \"jcrg\"\r\n",
        "workspace = \"jc-aml-ws\""
      ],
      "outputs": [],
      "execution_count": 29,
      "metadata": {
        "jupyter": {
          "source_hidden": false,
          "outputs_hidden": false
        },
        "nteract": {
          "transient": {
            "deleting": false
          }
        },
        "gather": {
          "logged": 1672773174780
        }
      }
    },
    {
      "cell_type": "code",
      "source": [
        "# get a handle to the workspace\r\n",
        "ml_client = MLClient(\r\n",
        "    DefaultAzureCredential(), subscription_id, resource_group, workspace\r\n",
        ")"
      ],
      "outputs": [],
      "execution_count": 30,
      "metadata": {
        "jupyter": {
          "source_hidden": false,
          "outputs_hidden": false
        },
        "nteract": {
          "transient": {
            "deleting": false
          }
        },
        "gather": {
          "logged": 1672773176769
        }
      }
    },
    {
      "cell_type": "code",
      "source": [
        "# Creating a unique endpoint name with current datetime to avoid conflicts\r\n",
        "import datetime\r\n",
        "\r\n",
        "online_endpoint_name = \"ep-ipmodel-\" + datetime.datetime.now().strftime(\"%m%d%H%M%f\")\r\n",
        "\r\n",
        "# create an online endpoint\r\n",
        "endpoint = ManagedOnlineEndpoint(\r\n",
        "    name=online_endpoint_name,\r\n",
        "    description=\"this is an endpoint for IP model\",\r\n",
        "    auth_mode=\"key\",\r\n",
        "    tags={\"foo\": \"bar\"},\r\n",
        ")"
      ],
      "outputs": [],
      "execution_count": 31,
      "metadata": {
        "jupyter": {
          "source_hidden": false,
          "outputs_hidden": false
        },
        "nteract": {
          "transient": {
            "deleting": false
          }
        },
        "gather": {
          "logged": 1672773178786
        }
      }
    },
    {
      "cell_type": "code",
      "source": [
        "#create endpoint in workspace\r\n",
        "ml_client.begin_create_or_update(endpoint).result()"
      ],
      "outputs": [
        {
          "output_type": "execute_result",
          "execution_count": 32,
          "data": {
            "text/plain": "ManagedOnlineEndpoint({'public_network_access': 'Enabled', 'provisioning_state': 'Succeeded', 'scoring_uri': 'https://ep-ipmodel-01031912307940.eastus2.inference.ml.azure.com/score', 'openapi_uri': 'https://ep-ipmodel-01031912307940.eastus2.inference.ml.azure.com/swagger.json', 'name': 'ep-ipmodel-01031912307940', 'description': 'this is an endpoint for IP model', 'tags': {'foo': 'bar'}, 'properties': {'azureml.onlineendpointid': '/subscriptions/31093e7f-3cdc-4559-9889-69d7eebc31ce/resourcegroups/jcrg/providers/microsoft.machinelearningservices/workspaces/jc-aml-ws/onlineendpoints/ep-ipmodel-01031912307940', 'AzureAsyncOperationUri': 'https://management.azure.com/subscriptions/31093e7f-3cdc-4559-9889-69d7eebc31ce/providers/Microsoft.MachineLearningServices/locations/eastus2/mfeOperationsStatus/oe:7aa091ce-1fa5-4d20-8422-3130e4780d77:436fecaf-1dda-45f1-ae8f-4d5d788ebafa?api-version=2022-02-01-preview'}, 'id': '/subscriptions/31093e7f-3cdc-4559-9889-69d7eebc31ce/resourceGroups/jcrg/providers/Microsoft.MachineLearningServices/workspaces/jc-aml-ws/onlineEndpoints/ep-ipmodel-01031912307940', 'Resource__source_path': None, 'base_path': '/mnt/batch/tasks/shared/LS_root/mounts/clusters/aml-instance/code/Users/juichiache/ip_endpoint_tutorial', 'creation_context': None, 'serialize': <msrest.serialization.Serializer object at 0x7fd955c87280>, 'auth_mode': 'key', 'location': 'eastus2', 'identity': <azure.ai.ml.entities._credentials.IdentityConfiguration object at 0x7fd955c874c0>, 'traffic': {}, 'mirror_traffic': {}, 'kind': 'Managed'})"
          },
          "metadata": {}
        }
      ],
      "execution_count": 32,
      "metadata": {
        "jupyter": {
          "source_hidden": false,
          "outputs_hidden": false
        },
        "nteract": {
          "transient": {
            "deleting": false
          }
        },
        "gather": {
          "logged": 1672773274910
        }
      }
    },
    {
      "cell_type": "markdown",
      "source": [
        "Configure online deployment:\r\n",
        "A deployment is a set of resources required for hosting the model that does the actual inferencing"
      ],
      "metadata": {
        "nteract": {
          "transient": {
            "deleting": false
          }
        }
      }
    },
    {
      "cell_type": "code",
      "source": [
        "model = Model(path=\"../ip_endpoint_tutorial/model/PM2_MultiGrade_STFImodel.pkl\")\r\n",
        "# env = Environment(\r\n",
        "#     conda_file=\"../model-1/environment/conda.yml\",\r\n",
        "#     image=\"mcr.microsoft.com/azureml/openmpi4.1.0-ubuntu20.04:latest\",\r\n",
        "# )\r\n",
        "\r\n",
        "env = ml_client.environments.get(name=\"ip-env\", version=\"1\")\r\n",
        "\r\n",
        "blue_deployment = ManagedOnlineDeployment(\r\n",
        "    name=\"blue\",\r\n",
        "    endpoint_name=online_endpoint_name,\r\n",
        "    model=model,\r\n",
        "    environment=env,\r\n",
        "    code_configuration=CodeConfiguration(\r\n",
        "        code=\"../ip_endpoint_tutorial/onlinescoring\", scoring_script=\"scoring.py\"\r\n",
        "    ),\r\n",
        "    instance_type=\"Standard_DS2_v2\",\r\n",
        "    instance_count=1,\r\n",
        ")"
      ],
      "outputs": [],
      "execution_count": 39,
      "metadata": {
        "jupyter": {
          "source_hidden": false,
          "outputs_hidden": false
        },
        "nteract": {
          "transient": {
            "deleting": false
          }
        },
        "gather": {
          "logged": 1672777564965
        }
      }
    },
    {
      "cell_type": "code",
      "source": [
        "#create deployment in workspace\r\n",
        "ml_client.begin_create_or_update(blue_deployment).result()"
      ],
      "outputs": [
        {
          "output_type": "stream",
          "name": "stderr",
          "text": "Check: endpoint ep-ipmodel-01031912307940 exists\n\u001b[32mUploading onlinescoring (0.0 MBs): 100%|██████████| 2164/2164 [00:00<00:00, 52591.93it/s]\n\u001b[39m\n\ndata_collector is not a known attribute of class <class 'azure.ai.ml._restclient.v2022_02_01_preview.models._models_py3.ManagedOnlineDeployment'> and will be ignored\n"
        },
        {
          "output_type": "stream",
          "name": "stdout",
          "text": "................................................................................"
        },
        {
          "output_type": "execute_result",
          "execution_count": 40,
          "data": {
            "text/plain": "ManagedOnlineDeployment({'private_network_connection': False, 'data_collector': None, 'provisioning_state': 'Succeeded', 'endpoint_name': 'ep-ipmodel-01031912307940', 'type': 'Managed', 'name': 'blue', 'description': None, 'tags': {}, 'properties': {'AzureAsyncOperationUri': 'https://management.azure.com/subscriptions/31093e7f-3cdc-4559-9889-69d7eebc31ce/providers/Microsoft.MachineLearningServices/locations/eastus2/mfeOperationsStatus/od:7aa091ce-1fa5-4d20-8422-3130e4780d77:6a351e9b-44fc-4e34-bfd4-7946835996eb?api-version=2022-02-01-preview'}, 'id': '/subscriptions/31093e7f-3cdc-4559-9889-69d7eebc31ce/resourceGroups/jcrg/providers/Microsoft.MachineLearningServices/workspaces/jc-aml-ws/onlineEndpoints/ep-ipmodel-01031912307940/deployments/blue', 'Resource__source_path': None, 'base_path': '/mnt/batch/tasks/shared/LS_root/mounts/clusters/aml-instance/code/Users/juichiache/ip_endpoint_tutorial', 'creation_context': None, 'serialize': <msrest.serialization.Serializer object at 0x7fd954b91c00>, 'model': '/subscriptions/31093e7f-3cdc-4559-9889-69d7eebc31ce/resourceGroups/jcrg/providers/Microsoft.MachineLearningServices/workspaces/jc-aml-ws/models/e970eef492d292fa3ead109b9cdc6127/versions/1', 'code_configuration': {'code': '/subscriptions/31093e7f-3cdc-4559-9889-69d7eebc31ce/resourceGroups/jcrg/providers/Microsoft.MachineLearningServices/workspaces/jc-aml-ws/codes/ab4c95c4-7a34-4f52-821c-3eed8d529835/versions/1'}, 'environment': '/subscriptions/31093e7f-3cdc-4559-9889-69d7eebc31ce/resourceGroups/jcrg/providers/Microsoft.MachineLearningServices/workspaces/jc-aml-ws/environments/ip-env/versions/1', 'environment_variables': {}, 'app_insights_enabled': False, 'scale_settings': <azure.ai.ml.entities._deployment.scale_settings.DefaultScaleSettings object at 0x7fd954b93cd0>, 'request_settings': <azure.ai.ml.entities._deployment.deployment_settings.OnlineRequestSettings object at 0x7fd954b91c90>, 'liveness_probe': <azure.ai.ml.entities._deployment.deployment_settings.ProbeSettings object at 0x7fd954b93880>, 'readiness_probe': <azure.ai.ml.entities._deployment.deployment_settings.ProbeSettings object at 0x7fd954b92110>, 'instance_count': 1, 'arm_type': 'online_deployment', 'model_mount_path': None, 'instance_type': 'Standard_DS2_v2', 'egress_public_network_access': 'Enabled'})"
          },
          "metadata": {}
        }
      ],
      "execution_count": 40,
      "metadata": {
        "jupyter": {
          "source_hidden": false,
          "outputs_hidden": false
        },
        "nteract": {
          "transient": {
            "deleting": false
          }
        },
        "gather": {
          "logged": 1672777980815
        }
      }
    },
    {
      "cell_type": "code",
      "source": [
        "# blue deployment takes 100 traffic\r\n",
        "endpoint.traffic = {\"blue\": 100}\r\n",
        "ml_client.begin_create_or_update(endpoint).result()"
      ],
      "outputs": [
        {
          "output_type": "execute_result",
          "execution_count": 35,
          "data": {
            "text/plain": "ManagedOnlineEndpoint({'public_network_access': 'Enabled', 'provisioning_state': 'Succeeded', 'scoring_uri': 'https://ep-ipmodel-01031912307940.eastus2.inference.ml.azure.com/score', 'openapi_uri': 'https://ep-ipmodel-01031912307940.eastus2.inference.ml.azure.com/swagger.json', 'name': 'ep-ipmodel-01031912307940', 'description': 'this is an endpoint for IP model', 'tags': {'foo': 'bar'}, 'properties': {'azureml.onlineendpointid': '/subscriptions/31093e7f-3cdc-4559-9889-69d7eebc31ce/resourcegroups/jcrg/providers/microsoft.machinelearningservices/workspaces/jc-aml-ws/onlineendpoints/ep-ipmodel-01031912307940', 'AzureAsyncOperationUri': 'https://management.azure.com/subscriptions/31093e7f-3cdc-4559-9889-69d7eebc31ce/providers/Microsoft.MachineLearningServices/locations/eastus2/mfeOperationsStatus/oe:7aa091ce-1fa5-4d20-8422-3130e4780d77:535aa8c9-c3cf-4b2d-9156-66dd7113eade?api-version=2022-02-01-preview'}, 'id': '/subscriptions/31093e7f-3cdc-4559-9889-69d7eebc31ce/resourceGroups/jcrg/providers/Microsoft.MachineLearningServices/workspaces/jc-aml-ws/onlineEndpoints/ep-ipmodel-01031912307940', 'Resource__source_path': None, 'base_path': '/mnt/batch/tasks/shared/LS_root/mounts/clusters/aml-instance/code/Users/juichiache/ip_endpoint_tutorial', 'creation_context': None, 'serialize': <msrest.serialization.Serializer object at 0x7fd955c87910>, 'auth_mode': 'key', 'location': 'eastus2', 'identity': <azure.ai.ml.entities._credentials.IdentityConfiguration object at 0x7fd955c86050>, 'traffic': {'blue': 100}, 'mirror_traffic': {}, 'kind': 'Managed'})"
          },
          "metadata": {}
        }
      ],
      "execution_count": 35,
      "metadata": {
        "jupyter": {
          "source_hidden": false,
          "outputs_hidden": false
        },
        "nteract": {
          "transient": {
            "deleting": false
          }
        },
        "gather": {
          "logged": 1672776899769
        }
      }
    },
    {
      "cell_type": "code",
      "source": [
        "# test the blue deployment with some sample data\r\n",
        "ml_client.online_endpoints.invoke(\r\n",
        "    endpoint_name=online_endpoint_name,\r\n",
        "    deployment_name=\"blue\",\r\n",
        "    request_file=\"../ip_endpoint_tutorial/test_data.json\",\r\n",
        ")"
      ],
      "outputs": [
        {
          "output_type": "execute_result",
          "execution_count": 41,
          "data": {
            "text/plain": "'[21.080642060616853]'"
          },
          "metadata": {}
        }
      ],
      "execution_count": 41,
      "metadata": {
        "jupyter": {
          "source_hidden": false,
          "outputs_hidden": false
        },
        "nteract": {
          "transient": {
            "deleting": false
          }
        },
        "gather": {
          "logged": 1672778021735
        }
      }
    }
  ],
  "metadata": {
    "kernelspec": {
      "name": "python310-sdkv2",
      "language": "python",
      "display_name": "Python 3.10 - SDK V2"
    },
    "language_info": {
      "name": "python",
      "version": "3.10.6",
      "mimetype": "text/x-python",
      "codemirror_mode": {
        "name": "ipython",
        "version": 3
      },
      "pygments_lexer": "ipython3",
      "nbconvert_exporter": "python",
      "file_extension": ".py"
    },
    "kernel_info": {
      "name": "python310-sdkv2"
    },
    "nteract": {
      "version": "nteract-front-end@1.0.0"
    },
    "microsoft": {
      "host": {
        "AzureML": {
          "notebookHasBeenCompleted": true
        }
      }
    }
  },
  "nbformat": 4,
  "nbformat_minor": 2
}