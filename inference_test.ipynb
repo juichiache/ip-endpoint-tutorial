{
  "cells": [
    {
      "cell_type": "code",
      "source": [
        "import pandas as pd\r\n",
        "import os\r\n",
        "import logging\r\n",
        "import json\r\n",
        "import numpy\r\n",
        "import pickle\r\n",
        "import joblib\r\n",
        "import sklearn\r\n",
        "# from azure.ai.ml import MLClient\r\n",
        "# from azure.ai.ml.entities import (\r\n",
        "#     ManagedOnlineEndpoint,\r\n",
        "#     ManagedOnlineDeployment,\r\n",
        "#     Model,\r\n",
        "#     Environment,\r\n",
        "#     CodeConfiguration,\r\n",
        "# )\r\n",
        "# from azure.identity import DefaultAzureCredential"
      ],
      "outputs": [],
      "execution_count": 2,
      "metadata": {
        "gather": {
          "logged": 1671565597140
        }
      }
    },
    {
      "cell_type": "code",
      "source": [
        "model = pickle.load(open(\"../ip_endpoint_tutorial/model/PM2_MultiGrade_STFImodel.pkl\",'rb'))"
      ],
      "outputs": [
        {
          "output_type": "stream",
          "name": "stderr",
          "text": "/anaconda/envs/azureml_py38/lib/python3.8/site-packages/sklearn/base.py:313: UserWarning: Trying to unpickle estimator DummyRegressor from version 0.22.1 when using version 0.22.2. This might lead to breaking code or invalid results. Use at your own risk.\n  warnings.warn(\n/anaconda/envs/azureml_py38/lib/python3.8/site-packages/sklearn/base.py:313: UserWarning: Trying to unpickle estimator DecisionTreeRegressor from version 0.22.1 when using version 0.22.2. This might lead to breaking code or invalid results. Use at your own risk.\n  warnings.warn(\n/anaconda/envs/azureml_py38/lib/python3.8/site-packages/sklearn/base.py:313: UserWarning: Trying to unpickle estimator GradientBoostingRegressor from version 0.22.1 when using version 0.22.2. This might lead to breaking code or invalid results. Use at your own risk.\n  warnings.warn(\n"
        }
      ],
      "execution_count": 3,
      "metadata": {
        "jupyter": {
          "source_hidden": false,
          "outputs_hidden": false
        },
        "nteract": {
          "transient": {
            "deleting": false
          }
        },
        "gather": {
          "logged": 1671565610061
        }
      }
    },
    {
      "cell_type": "code",
      "source": [
        "model.predict(numpy.array([[\r\n",
        "    20,22,24,1,1,1,1,1,1,1\r\n",
        "]]))"
      ],
      "outputs": [
        {
          "output_type": "execute_result",
          "execution_count": 5,
          "data": {
            "text/plain": "array([21.08064206])"
          },
          "metadata": {}
        }
      ],
      "execution_count": 5,
      "metadata": {
        "jupyter": {
          "source_hidden": false,
          "outputs_hidden": false
        },
        "nteract": {
          "transient": {
            "deleting": false
          }
        },
        "gather": {
          "logged": 1671565913361
        }
      }
    },
    {
      "cell_type": "code",
      "source": [
        "%%writefile sample-request.json\r\n",
        "{\"data\": [[\r\n",
        "    20,22,24,1,1,1,1,1,1,1\r\n",
        "]]}"
      ],
      "outputs": [
        {
          "output_type": "stream",
          "name": "stdout",
          "text": "Writing sample-request.json\n"
        }
      ],
      "execution_count": 6,
      "metadata": {
        "jupyter": {
          "source_hidden": false,
          "outputs_hidden": false
        },
        "nteract": {
          "transient": {
            "deleting": false
          }
        }
      }
    },
    {
      "cell_type": "code",
      "source": [
        "data = json.load(open(\"sample-request.json\",))[\"data\"]"
      ],
      "outputs": [],
      "execution_count": 9,
      "metadata": {
        "jupyter": {
          "source_hidden": false,
          "outputs_hidden": false
        },
        "nteract": {
          "transient": {
            "deleting": false
          }
        },
        "gather": {
          "logged": 1671566752215
        }
      }
    },
    {
      "cell_type": "code",
      "source": [
        "data = json.load(open(\"sample-request.json\",))[\"data\"]"
      ],
      "outputs": [],
      "execution_count": null,
      "metadata": {
        "jupyter": {
          "source_hidden": false,
          "outputs_hidden": false
        },
        "nteract": {
          "transient": {
            "deleting": false
          }
        }
      }
    },
    {
      "cell_type": "code",
      "source": [
        "model.predict(numpy.array(data))"
      ],
      "outputs": [
        {
          "output_type": "execute_result",
          "execution_count": 11,
          "data": {
            "text/plain": "array([21.08064206])"
          },
          "metadata": {}
        }
      ],
      "execution_count": 11,
      "metadata": {
        "jupyter": {
          "source_hidden": false,
          "outputs_hidden": false
        },
        "nteract": {
          "transient": {
            "deleting": false
          }
        },
        "gather": {
          "logged": 1671566784150
        }
      }
    }
  ],
  "metadata": {
    "kernelspec": {
      "name": "python38-azureml",
      "language": "python",
      "display_name": "Python 3.8 - AzureML"
    },
    "language_info": {
      "name": "python",
      "version": "3.8.5",
      "mimetype": "text/x-python",
      "codemirror_mode": {
        "name": "ipython",
        "version": 3
      },
      "pygments_lexer": "ipython3",
      "nbconvert_exporter": "python",
      "file_extension": ".py"
    },
    "kernel_info": {
      "name": "python38-azureml"
    },
    "microsoft": {
      "host": {
        "AzureML": {
          "notebookHasBeenCompleted": true
        }
      }
    },
    "nteract": {
      "version": "nteract-front-end@1.0.0"
    }
  },
  "nbformat": 4,
  "nbformat_minor": 2
}